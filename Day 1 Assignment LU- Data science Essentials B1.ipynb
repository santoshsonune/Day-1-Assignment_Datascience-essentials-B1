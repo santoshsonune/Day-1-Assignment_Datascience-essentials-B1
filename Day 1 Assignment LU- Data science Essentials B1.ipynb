{
 "cells": [
  {
   "cell_type": "markdown",
   "metadata": {},
   "source": [
    "# Q1"
   ]
  },
  {
   "cell_type": "markdown",
   "metadata": {},
   "source": [
    "# RAINBOW"
   ]
  },
  {
   "cell_type": "markdown",
   "metadata": {},
   "source": [
    "# Q2"
   ]
  },
  {
   "cell_type": "code",
   "execution_count": 1,
   "metadata": {},
   "outputs": [
    {
     "name": "stdout",
     "output_type": "stream",
     "text": [
      "LETS UPGRADE\n"
     ]
    }
   ],
   "source": [
    "print(\"LETS UPGRADE\")"
   ]
  },
  {
   "cell_type": "markdown",
   "metadata": {},
   "source": [
    "# Q3"
   ]
  },
  {
   "cell_type": "code",
   "execution_count": 14,
   "metadata": {},
   "outputs": [
    {
     "name": "stdout",
     "output_type": "stream",
     "text": [
      "Cost price=20\n",
      "Selling price=30\n",
      "Cost price= 20\n",
      "Selling price= 30\n",
      "Loss\n"
     ]
    }
   ],
   "source": [
    "# Testcase 1\n",
    "number1 = int(input(\"Cost price=\"))\n",
    "number2 = int(input(\"Selling price=\"))\n",
    "print(\"Cost price=\",number1)\n",
    "print(\"Selling price=\",number2)\n",
    "if number1 > number2:\n",
    "    print(\"Profit\")\n",
    "elif number1 < number2:\n",
    "    print(\"Loss\")\n",
    "else:\n",
    "    print(\"Neither\")"
   ]
  },
  {
   "cell_type": "code",
   "execution_count": 15,
   "metadata": {},
   "outputs": [
    {
     "name": "stdout",
     "output_type": "stream",
     "text": [
      "Cost price=20\n",
      "Selling price=10\n",
      "Cost price= 20\n",
      "Selling price= 10\n",
      "Profit\n"
     ]
    }
   ],
   "source": [
    "# Testcase 2\n",
    "number1 = int(input(\"Cost price=\"))\n",
    "number2 = int(input(\"Selling price=\"))\n",
    "print(\"Cost price=\",number1)\n",
    "print(\"Selling price=\",number2)\n",
    "if number1 > number2:\n",
    "    print(\"Profit\")\n",
    "elif number1 < number2:\n",
    "    print(\"Loss\")\n",
    "else:\n",
    "    print(\"Neither\")"
   ]
  },
  {
   "cell_type": "code",
   "execution_count": 16,
   "metadata": {},
   "outputs": [
    {
     "name": "stdout",
     "output_type": "stream",
     "text": [
      "Cost price=20\n",
      "Selling price=20\n",
      "Cost price= 20\n",
      "Selling price= 20\n",
      "Neither\n"
     ]
    }
   ],
   "source": [
    "#Testcase 3\n",
    "number1 = int(input(\"Cost price=\"))\n",
    "number2 = int(input(\"Selling price=\"))\n",
    "print(\"Cost price=\",number1)\n",
    "print(\"Selling price=\",number2)\n",
    "if number1 > number2:\n",
    "    print(\"Profit\")\n",
    "elif number1 < number2:\n",
    "    print(\"Loss\")\n",
    "else:\n",
    "    print(\"Neither\")"
   ]
  },
  {
   "cell_type": "code",
   "execution_count": 17,
   "metadata": {},
   "outputs": [
    {
     "name": "stdout",
     "output_type": "stream",
     "text": [
      "Cost price=19\n",
      "Selling price=19\n",
      "Cost price= 19\n",
      "Selling price= 19\n",
      "Neither\n"
     ]
    }
   ],
   "source": [
    "#Testcase 4\n",
    "number1 = int(input(\"Cost price=\"))\n",
    "number2 = int(input(\"Selling price=\"))\n",
    "print(\"Cost price=\",number1)\n",
    "print(\"Selling price=\",number2)\n",
    "if number1 > number2:\n",
    "    print(\"Profit\")\n",
    "elif number1 < number2:\n",
    "    print(\"Loss\")\n",
    "else:\n",
    "    print(\"Neither\")"
   ]
  },
  {
   "cell_type": "code",
   "execution_count": 18,
   "metadata": {},
   "outputs": [
    {
     "name": "stdout",
     "output_type": "stream",
     "text": [
      "Cost price=23\n",
      "Selling price=7\n",
      "Cost price= 23\n",
      "Selling price= 7\n",
      "Profit\n"
     ]
    }
   ],
   "source": [
    "#testcase 5\n",
    "number1 = int(input(\"Cost price=\"))\n",
    "number2 = int(input(\"Selling price=\"))\n",
    "print(\"Cost price=\",number1)\n",
    "print(\"Selling price=\",number2)\n",
    "if number1 > number2:\n",
    "    print(\"Profit\")\n",
    "elif number1 < number2:\n",
    "    print(\"Loss\")\n",
    "else:\n",
    "    print(\"Neither\")"
   ]
  },
  {
   "cell_type": "code",
   "execution_count": 19,
   "metadata": {},
   "outputs": [
    {
     "name": "stdout",
     "output_type": "stream",
     "text": [
      "Cost price=19\n",
      "Selling price=95\n",
      "Cost price= 19\n",
      "Selling price= 95\n",
      "Loss\n"
     ]
    }
   ],
   "source": [
    "#Testcase 6\n",
    "\n",
    "number1 = int(input(\"Cost price=\"))\n",
    "number2 = int(input(\"Selling price=\"))\n",
    "print(\"Cost price=\",number1)\n",
    "print(\"Selling price=\",number2)\n",
    "if number1 > number2:\n",
    "    print(\"Profit\")\n",
    "elif number1 < number2:\n",
    "    print(\"Loss\")\n",
    "else:\n",
    "    print(\"Neither\")"
   ]
  },
  {
   "cell_type": "markdown",
   "metadata": {},
   "source": [
    "# Q4"
   ]
  },
  {
   "cell_type": "code",
   "execution_count": 23,
   "metadata": {},
   "outputs": [
    {
     "name": "stdout",
     "output_type": "stream",
     "text": [
      "Euros20\n",
      "Euros 20\n",
      "Rupees= 1600\n"
     ]
    }
   ],
   "source": [
    "#Testcase 1\n",
    "x=int(input(\"Euros\"))\n",
    "print(\"Euros\",x)\n",
    "y=x*80\n",
    "print(\"Rupees=\",y)"
   ]
  },
  {
   "cell_type": "code",
   "execution_count": 24,
   "metadata": {},
   "outputs": [
    {
     "name": "stdout",
     "output_type": "stream",
     "text": [
      "Euros50\n",
      "Euros 50\n",
      "Rupees= 4000\n"
     ]
    }
   ],
   "source": [
    "#Testcase 2\n",
    "x=int(input(\"Euros\"))\n",
    "print(\"Euros\",x)\n",
    "y=x*80\n",
    "print(\"Rupees=\",y)"
   ]
  },
  {
   "cell_type": "code",
   "execution_count": 25,
   "metadata": {},
   "outputs": [
    {
     "name": "stdout",
     "output_type": "stream",
     "text": [
      "Euros72\n",
      "Euros 72\n",
      "Rupees= 5760\n"
     ]
    }
   ],
   "source": [
    "#Tesrcase 3\n",
    "x=int(input(\"Euros\"))\n",
    "print(\"Euros\",x)\n",
    "y=x*80\n",
    "print(\"Rupees=\",y)"
   ]
  },
  {
   "cell_type": "code",
   "execution_count": 26,
   "metadata": {},
   "outputs": [
    {
     "name": "stdout",
     "output_type": "stream",
     "text": [
      "Euros7\n",
      "Euros 7\n",
      "Rupees= 560\n"
     ]
    }
   ],
   "source": [
    "#Testcase 4\n",
    "x=int(input(\"Euros\"))\n",
    "print(\"Euros\",x)\n",
    "y=x*80\n",
    "print(\"Rupees=\",y)"
   ]
  },
  {
   "cell_type": "code",
   "execution_count": 27,
   "metadata": {},
   "outputs": [
    {
     "name": "stdout",
     "output_type": "stream",
     "text": [
      "Euros35\n",
      "Euros 35\n",
      "Rupees= 2800\n"
     ]
    }
   ],
   "source": [
    "#Testcase 5\n",
    "x=int(input(\"Euros\"))\n",
    "print(\"Euros\",x)\n",
    "y=x*80\n",
    "print(\"Rupees=\",y)"
   ]
  },
  {
   "cell_type": "code",
   "execution_count": 28,
   "metadata": {},
   "outputs": [
    {
     "name": "stdout",
     "output_type": "stream",
     "text": [
      "Euros23\n",
      "Euros 23\n",
      "Rupees= 1840\n"
     ]
    }
   ],
   "source": [
    "#Testcase 6\n",
    "x=int(input(\"Euros\"))\n",
    "print(\"Euros\",x)\n",
    "y=x*80\n",
    "print(\"Rupees=\",y)"
   ]
  },
  {
   "cell_type": "code",
   "execution_count": 29,
   "metadata": {},
   "outputs": [
    {
     "name": "stdout",
     "output_type": "stream",
     "text": [
      "Euros95\n",
      "Euros 95\n",
      "Rupees= 7600\n"
     ]
    }
   ],
   "source": [
    "#Testcase 7\n",
    "x=int(input(\"Euros\"))\n",
    "print(\"Euros\",x)\n",
    "y=x*80\n",
    "print(\"Rupees=\",y)"
   ]
  },
  {
   "cell_type": "code",
   "execution_count": 30,
   "metadata": {},
   "outputs": [
    {
     "name": "stdout",
     "output_type": "stream",
     "text": [
      "Euros18\n",
      "Euros 18\n",
      "Rupees= 1440\n"
     ]
    }
   ],
   "source": [
    "#Testcase 8\n",
    "x=int(input(\"Euros\"))\n",
    "print(\"Euros\",x)\n",
    "y=x*80\n",
    "print(\"Rupees=\",y)"
   ]
  },
  {
   "cell_type": "code",
   "execution_count": null,
   "metadata": {},
   "outputs": [],
   "source": []
  }
 ],
 "metadata": {
  "kernelspec": {
   "display_name": "Python 3",
   "language": "python",
   "name": "python3"
  },
  "language_info": {
   "codemirror_mode": {
    "name": "ipython",
    "version": 3
   },
   "file_extension": ".py",
   "mimetype": "text/x-python",
   "name": "python",
   "nbconvert_exporter": "python",
   "pygments_lexer": "ipython3",
   "version": "3.8.3"
  }
 },
 "nbformat": 4,
 "nbformat_minor": 4
}
